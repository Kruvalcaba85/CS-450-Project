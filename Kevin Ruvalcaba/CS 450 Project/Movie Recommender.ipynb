{
 "cells": [
  {
   "cell_type": "markdown",
   "source": [
    "# S.a.M.: Movie Recommender Feature\n",
    "\n",
    "The movie recommendation system will offer suggestions the user might like to watch based on their previously watched movies or genres that they like. This system will use K-Means clustering and content-based filtering"
   ],
   "metadata": {
    "collapsed": false
   },
   "id": "f1ef4de7d3604165"
  },
  {
   "cell_type": "markdown",
   "source": [
    "# Step 1: Loading Data\n",
    "\n",
    "First, import the necessary libraries and resources then read data"
   ],
   "metadata": {
    "collapsed": false
   },
   "id": "6995222cccd15608"
  },
  {
   "cell_type": "code",
   "outputs": [],
   "source": [
    "import numpy as np\n",
    "import pandas as pd\n",
    "from datetime import datetime\n",
    "from sklearn.neighbors import NearestNeighbors\n"
   ],
   "metadata": {
    "collapsed": false,
    "ExecuteTime": {
     "end_time": "2024-04-17T00:54:26.784792Z",
     "start_time": "2024-04-17T00:54:26.759298Z"
    }
   },
   "id": "a5ba2da7e70c6196",
   "execution_count": 68
  },
  {
   "cell_type": "code",
   "outputs": [],
   "source": [
    "movieNames = pd.read_csv('movies.csv')\n",
    "movieRatings = pd.read_csv('ratings.csv')"
   ],
   "metadata": {
    "collapsed": false,
    "ExecuteTime": {
     "end_time": "2024-04-17T00:54:26.823520Z",
     "start_time": "2024-04-17T00:54:26.787309Z"
    }
   },
   "id": "e13bac8fa7bfe604",
   "execution_count": 69
  },
  {
   "cell_type": "code",
   "outputs": [
    {
     "data": {
      "text/plain": "   userId  movieId  rating  timestamp\n0       1        1     4.0  964982703\n1       1        3     4.0  964981247\n2       1        6     4.0  964982224\n3       1       47     5.0  964983815\n4       1       50     5.0  964982931",
      "text/html": "<div>\n<style scoped>\n    .dataframe tbody tr th:only-of-type {\n        vertical-align: middle;\n    }\n\n    .dataframe tbody tr th {\n        vertical-align: top;\n    }\n\n    .dataframe thead th {\n        text-align: right;\n    }\n</style>\n<table border=\"1\" class=\"dataframe\">\n  <thead>\n    <tr style=\"text-align: right;\">\n      <th></th>\n      <th>userId</th>\n      <th>movieId</th>\n      <th>rating</th>\n      <th>timestamp</th>\n    </tr>\n  </thead>\n  <tbody>\n    <tr>\n      <th>0</th>\n      <td>1</td>\n      <td>1</td>\n      <td>4.0</td>\n      <td>964982703</td>\n    </tr>\n    <tr>\n      <th>1</th>\n      <td>1</td>\n      <td>3</td>\n      <td>4.0</td>\n      <td>964981247</td>\n    </tr>\n    <tr>\n      <th>2</th>\n      <td>1</td>\n      <td>6</td>\n      <td>4.0</td>\n      <td>964982224</td>\n    </tr>\n    <tr>\n      <th>3</th>\n      <td>1</td>\n      <td>47</td>\n      <td>5.0</td>\n      <td>964983815</td>\n    </tr>\n    <tr>\n      <th>4</th>\n      <td>1</td>\n      <td>50</td>\n      <td>5.0</td>\n      <td>964982931</td>\n    </tr>\n  </tbody>\n</table>\n</div>"
     },
     "execution_count": 70,
     "metadata": {},
     "output_type": "execute_result"
    }
   ],
   "source": [
    "movieRatings.head() # First dataset"
   ],
   "metadata": {
    "collapsed": false,
    "ExecuteTime": {
     "end_time": "2024-04-17T00:54:26.824386Z",
     "start_time": "2024-04-17T00:54:26.813276Z"
    }
   },
   "id": "bf6718b6ec353d0e",
   "execution_count": 70
  },
  {
   "cell_type": "markdown",
   "source": [
    "## Step 1a: Convert time stamp column from UNIX to readable format"
   ],
   "metadata": {
    "collapsed": false
   },
   "id": "149ebee0e01d1e9"
  },
  {
   "cell_type": "code",
   "outputs": [
    {
     "data": {
      "text/plain": "   userId  movieId  rating           timestamp\n0       1        1     4.0 2000-07-30 11:45:03\n1       1        3     4.0 2000-07-30 11:20:47\n2       1        6     4.0 2000-07-30 11:37:04\n3       1       47     5.0 2000-07-30 12:03:35\n4       1       50     5.0 2000-07-30 11:48:51",
      "text/html": "<div>\n<style scoped>\n    .dataframe tbody tr th:only-of-type {\n        vertical-align: middle;\n    }\n\n    .dataframe tbody tr th {\n        vertical-align: top;\n    }\n\n    .dataframe thead th {\n        text-align: right;\n    }\n</style>\n<table border=\"1\" class=\"dataframe\">\n  <thead>\n    <tr style=\"text-align: right;\">\n      <th></th>\n      <th>userId</th>\n      <th>movieId</th>\n      <th>rating</th>\n      <th>timestamp</th>\n    </tr>\n  </thead>\n  <tbody>\n    <tr>\n      <th>0</th>\n      <td>1</td>\n      <td>1</td>\n      <td>4.0</td>\n      <td>2000-07-30 11:45:03</td>\n    </tr>\n    <tr>\n      <th>1</th>\n      <td>1</td>\n      <td>3</td>\n      <td>4.0</td>\n      <td>2000-07-30 11:20:47</td>\n    </tr>\n    <tr>\n      <th>2</th>\n      <td>1</td>\n      <td>6</td>\n      <td>4.0</td>\n      <td>2000-07-30 11:37:04</td>\n    </tr>\n    <tr>\n      <th>3</th>\n      <td>1</td>\n      <td>47</td>\n      <td>5.0</td>\n      <td>2000-07-30 12:03:35</td>\n    </tr>\n    <tr>\n      <th>4</th>\n      <td>1</td>\n      <td>50</td>\n      <td>5.0</td>\n      <td>2000-07-30 11:48:51</td>\n    </tr>\n  </tbody>\n</table>\n</div>"
     },
     "execution_count": 71,
     "metadata": {},
     "output_type": "execute_result"
    }
   ],
   "source": [
    "# Timestamp column is currently in UNIX format so we're going to convert it into a readable format\n",
    "def UNIXtoReadable(df):\n",
    "    return pd.to_datetime(datetime.fromtimestamp(df).strftime('%Y-%m-%d %H:%M:%S'))\n",
    "\n",
    "movieRatings.timestamp = movieRatings.timestamp.apply(UNIXtoReadable)\n",
    "movieRatings.head()"
   ],
   "metadata": {
    "collapsed": false,
    "ExecuteTime": {
     "end_time": "2024-04-17T00:54:38.397585Z",
     "start_time": "2024-04-17T00:54:26.815952Z"
    }
   },
   "id": "63e21240595e3a3f",
   "execution_count": 71
  },
  {
   "cell_type": "code",
   "outputs": [
    {
     "data": {
      "text/plain": "   movieId                               title  \\\n0        1                    Toy Story (1995)   \n1        2                      Jumanji (1995)   \n2        3             Grumpier Old Men (1995)   \n3        4            Waiting to Exhale (1995)   \n4        5  Father of the Bride Part II (1995)   \n\n                                        genres  \n0  Adventure|Animation|Children|Comedy|Fantasy  \n1                   Adventure|Children|Fantasy  \n2                               Comedy|Romance  \n3                         Comedy|Drama|Romance  \n4                                       Comedy  ",
      "text/html": "<div>\n<style scoped>\n    .dataframe tbody tr th:only-of-type {\n        vertical-align: middle;\n    }\n\n    .dataframe tbody tr th {\n        vertical-align: top;\n    }\n\n    .dataframe thead th {\n        text-align: right;\n    }\n</style>\n<table border=\"1\" class=\"dataframe\">\n  <thead>\n    <tr style=\"text-align: right;\">\n      <th></th>\n      <th>movieId</th>\n      <th>title</th>\n      <th>genres</th>\n    </tr>\n  </thead>\n  <tbody>\n    <tr>\n      <th>0</th>\n      <td>1</td>\n      <td>Toy Story (1995)</td>\n      <td>Adventure|Animation|Children|Comedy|Fantasy</td>\n    </tr>\n    <tr>\n      <th>1</th>\n      <td>2</td>\n      <td>Jumanji (1995)</td>\n      <td>Adventure|Children|Fantasy</td>\n    </tr>\n    <tr>\n      <th>2</th>\n      <td>3</td>\n      <td>Grumpier Old Men (1995)</td>\n      <td>Comedy|Romance</td>\n    </tr>\n    <tr>\n      <th>3</th>\n      <td>4</td>\n      <td>Waiting to Exhale (1995)</td>\n      <td>Comedy|Drama|Romance</td>\n    </tr>\n    <tr>\n      <th>4</th>\n      <td>5</td>\n      <td>Father of the Bride Part II (1995)</td>\n      <td>Comedy</td>\n    </tr>\n  </tbody>\n</table>\n</div>"
     },
     "execution_count": 72,
     "metadata": {},
     "output_type": "execute_result"
    }
   ],
   "source": [
    "movieNames.head() # Second dataset"
   ],
   "metadata": {
    "collapsed": false,
    "ExecuteTime": {
     "end_time": "2024-04-17T00:54:38.401522Z",
     "start_time": "2024-04-17T00:54:38.396806Z"
    }
   },
   "id": "64b7abd5d0a3742f",
   "execution_count": 72
  },
  {
   "cell_type": "markdown",
   "source": [
    "## Step 2: Merge the first and second dataset"
   ],
   "metadata": {
    "collapsed": false
   },
   "id": "df03f1c47acac717"
  },
  {
   "cell_type": "code",
   "outputs": [
    {
     "data": {
      "text/plain": "   userId  movieId  rating           timestamp                        title  \\\n0       1        1     4.0 2000-07-30 11:45:03             Toy Story (1995)   \n1       1        3     4.0 2000-07-30 11:20:47      Grumpier Old Men (1995)   \n2       1        6     4.0 2000-07-30 11:37:04                  Heat (1995)   \n3       1       47     5.0 2000-07-30 12:03:35  Seven (a.k.a. Se7en) (1995)   \n4       1       50     5.0 2000-07-30 11:48:51   Usual Suspects, The (1995)   \n\n                                        genres  \n0  Adventure|Animation|Children|Comedy|Fantasy  \n1                               Comedy|Romance  \n2                        Action|Crime|Thriller  \n3                             Mystery|Thriller  \n4                       Crime|Mystery|Thriller  ",
      "text/html": "<div>\n<style scoped>\n    .dataframe tbody tr th:only-of-type {\n        vertical-align: middle;\n    }\n\n    .dataframe tbody tr th {\n        vertical-align: top;\n    }\n\n    .dataframe thead th {\n        text-align: right;\n    }\n</style>\n<table border=\"1\" class=\"dataframe\">\n  <thead>\n    <tr style=\"text-align: right;\">\n      <th></th>\n      <th>userId</th>\n      <th>movieId</th>\n      <th>rating</th>\n      <th>timestamp</th>\n      <th>title</th>\n      <th>genres</th>\n    </tr>\n  </thead>\n  <tbody>\n    <tr>\n      <th>0</th>\n      <td>1</td>\n      <td>1</td>\n      <td>4.0</td>\n      <td>2000-07-30 11:45:03</td>\n      <td>Toy Story (1995)</td>\n      <td>Adventure|Animation|Children|Comedy|Fantasy</td>\n    </tr>\n    <tr>\n      <th>1</th>\n      <td>1</td>\n      <td>3</td>\n      <td>4.0</td>\n      <td>2000-07-30 11:20:47</td>\n      <td>Grumpier Old Men (1995)</td>\n      <td>Comedy|Romance</td>\n    </tr>\n    <tr>\n      <th>2</th>\n      <td>1</td>\n      <td>6</td>\n      <td>4.0</td>\n      <td>2000-07-30 11:37:04</td>\n      <td>Heat (1995)</td>\n      <td>Action|Crime|Thriller</td>\n    </tr>\n    <tr>\n      <th>3</th>\n      <td>1</td>\n      <td>47</td>\n      <td>5.0</td>\n      <td>2000-07-30 12:03:35</td>\n      <td>Seven (a.k.a. Se7en) (1995)</td>\n      <td>Mystery|Thriller</td>\n    </tr>\n    <tr>\n      <th>4</th>\n      <td>1</td>\n      <td>50</td>\n      <td>5.0</td>\n      <td>2000-07-30 11:48:51</td>\n      <td>Usual Suspects, The (1995)</td>\n      <td>Crime|Mystery|Thriller</td>\n    </tr>\n  </tbody>\n</table>\n</div>"
     },
     "execution_count": 73,
     "metadata": {},
     "output_type": "execute_result"
    }
   ],
   "source": [
    "movies = pd.merge(movieRatings, movieNames, how = 'inner')\n",
    "movies.head()"
   ],
   "metadata": {
    "collapsed": false,
    "ExecuteTime": {
     "end_time": "2024-04-17T00:54:38.408773Z",
     "start_time": "2024-04-17T00:54:38.399581Z"
    }
   },
   "id": "a4635fcc502f927d",
   "execution_count": 73
  },
  {
   "cell_type": "markdown",
   "source": [
    "In the pd.merge() function, the how parameter specifies the type of join to perform between the two DataFrames. In this case, how='inner' performs an inner join.\n",
    "\n",
    "An inner join returns only the rows where there is a match in both DataFrames based on the specified join column(s). In other words, it keeps only the rows that have a common value in the specified column(s) across both DataFrames."
   ],
   "metadata": {
    "collapsed": false
   },
   "id": "df7e126f18668d9d"
  },
  {
   "cell_type": "code",
   "outputs": [
    {
     "name": "stdout",
     "output_type": "stream",
     "text": [
      "The dimensions of our merged dataset movies are: (100836, 6)\n"
     ]
    }
   ],
   "source": [
    "print(\"The dimensions of our merged dataset movies are:\", movies.shape)"
   ],
   "metadata": {
    "collapsed": false,
    "ExecuteTime": {
     "end_time": "2024-04-17T00:54:38.409157Z",
     "start_time": "2024-04-17T00:54:38.407069Z"
    }
   },
   "id": "f6daf17bae900039",
   "execution_count": 74
  },
  {
   "cell_type": "markdown",
   "source": [
    "Our dataset consists of 100,836 movies with 6 features. The 6 features are userId, movieId, rating, timestamp, title, and genres. "
   ],
   "metadata": {
    "collapsed": false
   },
   "id": "b3a4c103c9b2d25c"
  },
  {
   "cell_type": "markdown",
   "source": [
    "## Step 2a: Remove the movie year from movie titles"
   ],
   "metadata": {
    "collapsed": false
   },
   "id": "63ce23f85ff9bfb4"
  },
  {
   "cell_type": "code",
   "outputs": [
    {
     "data": {
      "text/plain": "   userId  movieId  rating           timestamp                title  \\\n0       1        1     4.0 2000-07-30 11:45:03            Toy Story   \n1       1        3     4.0 2000-07-30 11:20:47     Grumpier Old Men   \n2       1        6     4.0 2000-07-30 11:37:04                 Heat   \n3       1       47     5.0 2000-07-30 12:03:35                Seven   \n4       1       50     5.0 2000-07-30 11:48:51  Usual Suspects, The   \n\n                                        genres  \n0  Adventure|Animation|Children|Comedy|Fantasy  \n1                               Comedy|Romance  \n2                        Action|Crime|Thriller  \n3                             Mystery|Thriller  \n4                       Crime|Mystery|Thriller  ",
      "text/html": "<div>\n<style scoped>\n    .dataframe tbody tr th:only-of-type {\n        vertical-align: middle;\n    }\n\n    .dataframe tbody tr th {\n        vertical-align: top;\n    }\n\n    .dataframe thead th {\n        text-align: right;\n    }\n</style>\n<table border=\"1\" class=\"dataframe\">\n  <thead>\n    <tr style=\"text-align: right;\">\n      <th></th>\n      <th>userId</th>\n      <th>movieId</th>\n      <th>rating</th>\n      <th>timestamp</th>\n      <th>title</th>\n      <th>genres</th>\n    </tr>\n  </thead>\n  <tbody>\n    <tr>\n      <th>0</th>\n      <td>1</td>\n      <td>1</td>\n      <td>4.0</td>\n      <td>2000-07-30 11:45:03</td>\n      <td>Toy Story</td>\n      <td>Adventure|Animation|Children|Comedy|Fantasy</td>\n    </tr>\n    <tr>\n      <th>1</th>\n      <td>1</td>\n      <td>3</td>\n      <td>4.0</td>\n      <td>2000-07-30 11:20:47</td>\n      <td>Grumpier Old Men</td>\n      <td>Comedy|Romance</td>\n    </tr>\n    <tr>\n      <th>2</th>\n      <td>1</td>\n      <td>6</td>\n      <td>4.0</td>\n      <td>2000-07-30 11:37:04</td>\n      <td>Heat</td>\n      <td>Action|Crime|Thriller</td>\n    </tr>\n    <tr>\n      <th>3</th>\n      <td>1</td>\n      <td>47</td>\n      <td>5.0</td>\n      <td>2000-07-30 12:03:35</td>\n      <td>Seven</td>\n      <td>Mystery|Thriller</td>\n    </tr>\n    <tr>\n      <th>4</th>\n      <td>1</td>\n      <td>50</td>\n      <td>5.0</td>\n      <td>2000-07-30 11:48:51</td>\n      <td>Usual Suspects, The</td>\n      <td>Crime|Mystery|Thriller</td>\n    </tr>\n  </tbody>\n</table>\n</div>"
     },
     "execution_count": 75,
     "metadata": {},
     "output_type": "execute_result"
    }
   ],
   "source": [
    "movies['title'] = movies.title.str.split('(').str[0].str[:-1]\n",
    "movies.head()"
   ],
   "metadata": {
    "collapsed": false,
    "ExecuteTime": {
     "end_time": "2024-04-17T00:54:38.528045Z",
     "start_time": "2024-04-17T00:54:38.443766Z"
    }
   },
   "id": "f6a1881eb5bebda9",
   "execution_count": 75
  },
  {
   "cell_type": "markdown",
   "source": [
    "# Step 3: Create a dictionary mapping movieIds to corresponding movie titles. \n",
    "This dictionary can also be used to replace movieIds with their titles in other parts of code."
   ],
   "metadata": {
    "collapsed": false
   },
   "id": "bcbfdf0fdf4459e1"
  },
  {
   "cell_type": "code",
   "outputs": [
    {
     "data": {
      "text/plain": "[(1, 'Toy Story'),\n (3, 'Grumpier Old Men'),\n (6, 'Heat'),\n (47, 'Seven'),\n (50, 'Usual Suspects, The')]"
     },
     "execution_count": 76,
     "metadata": {},
     "output_type": "execute_result"
    }
   ],
   "source": [
    "# Created a (movieId: title) dictionary for all movieId's for replacing them with their names\n",
    "movieIdDict = movies.drop_duplicates('title')[['movieId', 'title']].set_index('movieId').to_dict()['title']\n",
    "\n",
    "# First 5 elements of this dictionary\n",
    "list(movieIdDict.items())[:5]"
   ],
   "metadata": {
    "collapsed": false,
    "ExecuteTime": {
     "end_time": "2024-04-17T00:54:38.538802Z",
     "start_time": "2024-04-17T00:54:38.526339Z"
    }
   },
   "id": "de0814aa4f1259b9",
   "execution_count": 76
  },
  {
   "cell_type": "markdown",
   "source": [
    "# Step 4: Create a pivot table dataRecommendation from the movies DataFrame "
   ],
   "metadata": {
    "collapsed": false
   },
   "id": "b39c6a216d05a94b"
  },
  {
   "cell_type": "code",
   "outputs": [
    {
     "data": {
      "text/plain": "movieId  Toy Story  Jumanji  Grumpier Old Men  Waiting to Exhale  \\\nuserId                                                             \n1              4.0      0.0               4.0                0.0   \n2              0.0      0.0               0.0                0.0   \n3              0.0      0.0               0.0                0.0   \n4              0.0      0.0               0.0                0.0   \n5              4.0      0.0               0.0                0.0   \n\nmovieId  Father of the Bride Part II  \nuserId                                \n1                                0.0  \n2                                0.0  \n3                                0.0  \n4                                0.0  \n5                                0.0  ",
      "text/html": "<div>\n<style scoped>\n    .dataframe tbody tr th:only-of-type {\n        vertical-align: middle;\n    }\n\n    .dataframe tbody tr th {\n        vertical-align: top;\n    }\n\n    .dataframe thead th {\n        text-align: right;\n    }\n</style>\n<table border=\"1\" class=\"dataframe\">\n  <thead>\n    <tr style=\"text-align: right;\">\n      <th>movieId</th>\n      <th>Toy Story</th>\n      <th>Jumanji</th>\n      <th>Grumpier Old Men</th>\n      <th>Waiting to Exhale</th>\n      <th>Father of the Bride Part II</th>\n    </tr>\n    <tr>\n      <th>userId</th>\n      <th></th>\n      <th></th>\n      <th></th>\n      <th></th>\n      <th></th>\n    </tr>\n  </thead>\n  <tbody>\n    <tr>\n      <th>1</th>\n      <td>4.0</td>\n      <td>0.0</td>\n      <td>4.0</td>\n      <td>0.0</td>\n      <td>0.0</td>\n    </tr>\n    <tr>\n      <th>2</th>\n      <td>0.0</td>\n      <td>0.0</td>\n      <td>0.0</td>\n      <td>0.0</td>\n      <td>0.0</td>\n    </tr>\n    <tr>\n      <th>3</th>\n      <td>0.0</td>\n      <td>0.0</td>\n      <td>0.0</td>\n      <td>0.0</td>\n      <td>0.0</td>\n    </tr>\n    <tr>\n      <th>4</th>\n      <td>0.0</td>\n      <td>0.0</td>\n      <td>0.0</td>\n      <td>0.0</td>\n      <td>0.0</td>\n    </tr>\n    <tr>\n      <th>5</th>\n      <td>4.0</td>\n      <td>0.0</td>\n      <td>0.0</td>\n      <td>0.0</td>\n      <td>0.0</td>\n    </tr>\n  </tbody>\n</table>\n</div>"
     },
     "execution_count": 77,
     "metadata": {},
     "output_type": "execute_result"
    }
   ],
   "source": [
    "# Creating a pivot table that has indexes as user ratings, and columns as each movie title\n",
    "dataRecommendation = movies.pivot(index='userId', columns='movieId', values='rating').fillna(0)\n",
    "\n",
    "# Replacing dataRecommendation columns with the movie titles\n",
    "dataRecommendation.columns = dataRecommendation.columns.map(movieIdDict)\n",
    "\n",
    "# Output pivot table with user ratings for each movie. Show a sample of 5 individual users ratings' of 5 movies\n",
    "dataRecommendation.head(5).iloc[:, [0,1,2,3,4]]"
   ],
   "metadata": {
    "collapsed": false,
    "ExecuteTime": {
     "end_time": "2024-04-17T00:54:38.585647Z",
     "start_time": "2024-04-17T00:54:38.537643Z"
    }
   },
   "id": "c757f78311f69318",
   "execution_count": 77
  },
  {
   "cell_type": "markdown",
   "source": [
    "# Step 5: Use k-nearest neighbors (KNN) for content-based collaborative filtering to generate movie recommendations"
   ],
   "metadata": {
    "collapsed": false
   },
   "id": "ea1ce204f19c0778"
  },
  {
   "cell_type": "code",
   "outputs": [
    {
     "data": {
      "text/plain": "NearestNeighbors(algorithm='brute', metric='cosine', n_neighbors=11)",
      "text/html": "<style>#sk-container-id-4 {\n  /* Definition of color scheme common for light and dark mode */\n  --sklearn-color-text: black;\n  --sklearn-color-line: gray;\n  /* Definition of color scheme for unfitted estimators */\n  --sklearn-color-unfitted-level-0: #fff5e6;\n  --sklearn-color-unfitted-level-1: #f6e4d2;\n  --sklearn-color-unfitted-level-2: #ffe0b3;\n  --sklearn-color-unfitted-level-3: chocolate;\n  /* Definition of color scheme for fitted estimators */\n  --sklearn-color-fitted-level-0: #f0f8ff;\n  --sklearn-color-fitted-level-1: #d4ebff;\n  --sklearn-color-fitted-level-2: #b3dbfd;\n  --sklearn-color-fitted-level-3: cornflowerblue;\n\n  /* Specific color for light theme */\n  --sklearn-color-text-on-default-background: var(--sg-text-color, var(--theme-code-foreground, var(--jp-content-font-color1, black)));\n  --sklearn-color-background: var(--sg-background-color, var(--theme-background, var(--jp-layout-color0, white)));\n  --sklearn-color-border-box: var(--sg-text-color, var(--theme-code-foreground, var(--jp-content-font-color1, black)));\n  --sklearn-color-icon: #696969;\n\n  @media (prefers-color-scheme: dark) {\n    /* Redefinition of color scheme for dark theme */\n    --sklearn-color-text-on-default-background: var(--sg-text-color, var(--theme-code-foreground, var(--jp-content-font-color1, white)));\n    --sklearn-color-background: var(--sg-background-color, var(--theme-background, var(--jp-layout-color0, #111)));\n    --sklearn-color-border-box: var(--sg-text-color, var(--theme-code-foreground, var(--jp-content-font-color1, white)));\n    --sklearn-color-icon: #878787;\n  }\n}\n\n#sk-container-id-4 {\n  color: var(--sklearn-color-text);\n}\n\n#sk-container-id-4 pre {\n  padding: 0;\n}\n\n#sk-container-id-4 input.sk-hidden--visually {\n  border: 0;\n  clip: rect(1px 1px 1px 1px);\n  clip: rect(1px, 1px, 1px, 1px);\n  height: 1px;\n  margin: -1px;\n  overflow: hidden;\n  padding: 0;\n  position: absolute;\n  width: 1px;\n}\n\n#sk-container-id-4 div.sk-dashed-wrapped {\n  border: 1px dashed var(--sklearn-color-line);\n  margin: 0 0.4em 0.5em 0.4em;\n  box-sizing: border-box;\n  padding-bottom: 0.4em;\n  background-color: var(--sklearn-color-background);\n}\n\n#sk-container-id-4 div.sk-container {\n  /* jupyter's `normalize.less` sets `[hidden] { display: none; }`\n     but bootstrap.min.css set `[hidden] { display: none !important; }`\n     so we also need the `!important` here to be able to override the\n     default hidden behavior on the sphinx rendered scikit-learn.org.\n     See: https://github.com/scikit-learn/scikit-learn/issues/21755 */\n  display: inline-block !important;\n  position: relative;\n}\n\n#sk-container-id-4 div.sk-text-repr-fallback {\n  display: none;\n}\n\ndiv.sk-parallel-item,\ndiv.sk-serial,\ndiv.sk-item {\n  /* draw centered vertical line to link estimators */\n  background-image: linear-gradient(var(--sklearn-color-text-on-default-background), var(--sklearn-color-text-on-default-background));\n  background-size: 2px 100%;\n  background-repeat: no-repeat;\n  background-position: center center;\n}\n\n/* Parallel-specific style estimator block */\n\n#sk-container-id-4 div.sk-parallel-item::after {\n  content: \"\";\n  width: 100%;\n  border-bottom: 2px solid var(--sklearn-color-text-on-default-background);\n  flex-grow: 1;\n}\n\n#sk-container-id-4 div.sk-parallel {\n  display: flex;\n  align-items: stretch;\n  justify-content: center;\n  background-color: var(--sklearn-color-background);\n  position: relative;\n}\n\n#sk-container-id-4 div.sk-parallel-item {\n  display: flex;\n  flex-direction: column;\n}\n\n#sk-container-id-4 div.sk-parallel-item:first-child::after {\n  align-self: flex-end;\n  width: 50%;\n}\n\n#sk-container-id-4 div.sk-parallel-item:last-child::after {\n  align-self: flex-start;\n  width: 50%;\n}\n\n#sk-container-id-4 div.sk-parallel-item:only-child::after {\n  width: 0;\n}\n\n/* Serial-specific style estimator block */\n\n#sk-container-id-4 div.sk-serial {\n  display: flex;\n  flex-direction: column;\n  align-items: center;\n  background-color: var(--sklearn-color-background);\n  padding-right: 1em;\n  padding-left: 1em;\n}\n\n\n/* Toggleable style: style used for estimator/Pipeline/ColumnTransformer box that is\nclickable and can be expanded/collapsed.\n- Pipeline and ColumnTransformer use this feature and define the default style\n- Estimators will overwrite some part of the style using the `sk-estimator` class\n*/\n\n/* Pipeline and ColumnTransformer style (default) */\n\n#sk-container-id-4 div.sk-toggleable {\n  /* Default theme specific background. It is overwritten whether we have a\n  specific estimator or a Pipeline/ColumnTransformer */\n  background-color: var(--sklearn-color-background);\n}\n\n/* Toggleable label */\n#sk-container-id-4 label.sk-toggleable__label {\n  cursor: pointer;\n  display: block;\n  width: 100%;\n  margin-bottom: 0;\n  padding: 0.5em;\n  box-sizing: border-box;\n  text-align: center;\n}\n\n#sk-container-id-4 label.sk-toggleable__label-arrow:before {\n  /* Arrow on the left of the label */\n  content: \"▸\";\n  float: left;\n  margin-right: 0.25em;\n  color: var(--sklearn-color-icon);\n}\n\n#sk-container-id-4 label.sk-toggleable__label-arrow:hover:before {\n  color: var(--sklearn-color-text);\n}\n\n/* Toggleable content - dropdown */\n\n#sk-container-id-4 div.sk-toggleable__content {\n  max-height: 0;\n  max-width: 0;\n  overflow: hidden;\n  text-align: left;\n  /* unfitted */\n  background-color: var(--sklearn-color-unfitted-level-0);\n}\n\n#sk-container-id-4 div.sk-toggleable__content.fitted {\n  /* fitted */\n  background-color: var(--sklearn-color-fitted-level-0);\n}\n\n#sk-container-id-4 div.sk-toggleable__content pre {\n  margin: 0.2em;\n  border-radius: 0.25em;\n  color: var(--sklearn-color-text);\n  /* unfitted */\n  background-color: var(--sklearn-color-unfitted-level-0);\n}\n\n#sk-container-id-4 div.sk-toggleable__content.fitted pre {\n  /* unfitted */\n  background-color: var(--sklearn-color-fitted-level-0);\n}\n\n#sk-container-id-4 input.sk-toggleable__control:checked~div.sk-toggleable__content {\n  /* Expand drop-down */\n  max-height: 200px;\n  max-width: 100%;\n  overflow: auto;\n}\n\n#sk-container-id-4 input.sk-toggleable__control:checked~label.sk-toggleable__label-arrow:before {\n  content: \"▾\";\n}\n\n/* Pipeline/ColumnTransformer-specific style */\n\n#sk-container-id-4 div.sk-label input.sk-toggleable__control:checked~label.sk-toggleable__label {\n  color: var(--sklearn-color-text);\n  background-color: var(--sklearn-color-unfitted-level-2);\n}\n\n#sk-container-id-4 div.sk-label.fitted input.sk-toggleable__control:checked~label.sk-toggleable__label {\n  background-color: var(--sklearn-color-fitted-level-2);\n}\n\n/* Estimator-specific style */\n\n/* Colorize estimator box */\n#sk-container-id-4 div.sk-estimator input.sk-toggleable__control:checked~label.sk-toggleable__label {\n  /* unfitted */\n  background-color: var(--sklearn-color-unfitted-level-2);\n}\n\n#sk-container-id-4 div.sk-estimator.fitted input.sk-toggleable__control:checked~label.sk-toggleable__label {\n  /* fitted */\n  background-color: var(--sklearn-color-fitted-level-2);\n}\n\n#sk-container-id-4 div.sk-label label.sk-toggleable__label,\n#sk-container-id-4 div.sk-label label {\n  /* The background is the default theme color */\n  color: var(--sklearn-color-text-on-default-background);\n}\n\n/* On hover, darken the color of the background */\n#sk-container-id-4 div.sk-label:hover label.sk-toggleable__label {\n  color: var(--sklearn-color-text);\n  background-color: var(--sklearn-color-unfitted-level-2);\n}\n\n/* Label box, darken color on hover, fitted */\n#sk-container-id-4 div.sk-label.fitted:hover label.sk-toggleable__label.fitted {\n  color: var(--sklearn-color-text);\n  background-color: var(--sklearn-color-fitted-level-2);\n}\n\n/* Estimator label */\n\n#sk-container-id-4 div.sk-label label {\n  font-family: monospace;\n  font-weight: bold;\n  display: inline-block;\n  line-height: 1.2em;\n}\n\n#sk-container-id-4 div.sk-label-container {\n  text-align: center;\n}\n\n/* Estimator-specific */\n#sk-container-id-4 div.sk-estimator {\n  font-family: monospace;\n  border: 1px dotted var(--sklearn-color-border-box);\n  border-radius: 0.25em;\n  box-sizing: border-box;\n  margin-bottom: 0.5em;\n  /* unfitted */\n  background-color: var(--sklearn-color-unfitted-level-0);\n}\n\n#sk-container-id-4 div.sk-estimator.fitted {\n  /* fitted */\n  background-color: var(--sklearn-color-fitted-level-0);\n}\n\n/* on hover */\n#sk-container-id-4 div.sk-estimator:hover {\n  /* unfitted */\n  background-color: var(--sklearn-color-unfitted-level-2);\n}\n\n#sk-container-id-4 div.sk-estimator.fitted:hover {\n  /* fitted */\n  background-color: var(--sklearn-color-fitted-level-2);\n}\n\n/* Specification for estimator info (e.g. \"i\" and \"?\") */\n\n/* Common style for \"i\" and \"?\" */\n\n.sk-estimator-doc-link,\na:link.sk-estimator-doc-link,\na:visited.sk-estimator-doc-link {\n  float: right;\n  font-size: smaller;\n  line-height: 1em;\n  font-family: monospace;\n  background-color: var(--sklearn-color-background);\n  border-radius: 1em;\n  height: 1em;\n  width: 1em;\n  text-decoration: none !important;\n  margin-left: 1ex;\n  /* unfitted */\n  border: var(--sklearn-color-unfitted-level-1) 1pt solid;\n  color: var(--sklearn-color-unfitted-level-1);\n}\n\n.sk-estimator-doc-link.fitted,\na:link.sk-estimator-doc-link.fitted,\na:visited.sk-estimator-doc-link.fitted {\n  /* fitted */\n  border: var(--sklearn-color-fitted-level-1) 1pt solid;\n  color: var(--sklearn-color-fitted-level-1);\n}\n\n/* On hover */\ndiv.sk-estimator:hover .sk-estimator-doc-link:hover,\n.sk-estimator-doc-link:hover,\ndiv.sk-label-container:hover .sk-estimator-doc-link:hover,\n.sk-estimator-doc-link:hover {\n  /* unfitted */\n  background-color: var(--sklearn-color-unfitted-level-3);\n  color: var(--sklearn-color-background);\n  text-decoration: none;\n}\n\ndiv.sk-estimator.fitted:hover .sk-estimator-doc-link.fitted:hover,\n.sk-estimator-doc-link.fitted:hover,\ndiv.sk-label-container:hover .sk-estimator-doc-link.fitted:hover,\n.sk-estimator-doc-link.fitted:hover {\n  /* fitted */\n  background-color: var(--sklearn-color-fitted-level-3);\n  color: var(--sklearn-color-background);\n  text-decoration: none;\n}\n\n/* Span, style for the box shown on hovering the info icon */\n.sk-estimator-doc-link span {\n  display: none;\n  z-index: 9999;\n  position: relative;\n  font-weight: normal;\n  right: .2ex;\n  padding: .5ex;\n  margin: .5ex;\n  width: min-content;\n  min-width: 20ex;\n  max-width: 50ex;\n  color: var(--sklearn-color-text);\n  box-shadow: 2pt 2pt 4pt #999;\n  /* unfitted */\n  background: var(--sklearn-color-unfitted-level-0);\n  border: .5pt solid var(--sklearn-color-unfitted-level-3);\n}\n\n.sk-estimator-doc-link.fitted span {\n  /* fitted */\n  background: var(--sklearn-color-fitted-level-0);\n  border: var(--sklearn-color-fitted-level-3);\n}\n\n.sk-estimator-doc-link:hover span {\n  display: block;\n}\n\n/* \"?\"-specific style due to the `<a>` HTML tag */\n\n#sk-container-id-4 a.estimator_doc_link {\n  float: right;\n  font-size: 1rem;\n  line-height: 1em;\n  font-family: monospace;\n  background-color: var(--sklearn-color-background);\n  border-radius: 1rem;\n  height: 1rem;\n  width: 1rem;\n  text-decoration: none;\n  /* unfitted */\n  color: var(--sklearn-color-unfitted-level-1);\n  border: var(--sklearn-color-unfitted-level-1) 1pt solid;\n}\n\n#sk-container-id-4 a.estimator_doc_link.fitted {\n  /* fitted */\n  border: var(--sklearn-color-fitted-level-1) 1pt solid;\n  color: var(--sklearn-color-fitted-level-1);\n}\n\n/* On hover */\n#sk-container-id-4 a.estimator_doc_link:hover {\n  /* unfitted */\n  background-color: var(--sklearn-color-unfitted-level-3);\n  color: var(--sklearn-color-background);\n  text-decoration: none;\n}\n\n#sk-container-id-4 a.estimator_doc_link.fitted:hover {\n  /* fitted */\n  background-color: var(--sklearn-color-fitted-level-3);\n}\n</style><div id=\"sk-container-id-4\" class=\"sk-top-container\"><div class=\"sk-text-repr-fallback\"><pre>NearestNeighbors(algorithm=&#x27;brute&#x27;, metric=&#x27;cosine&#x27;, n_neighbors=11)</pre><b>In a Jupyter environment, please rerun this cell to show the HTML representation or trust the notebook. <br />On GitHub, the HTML representation is unable to render, please try loading this page with nbviewer.org.</b></div><div class=\"sk-container\" hidden><div class=\"sk-item\"><div class=\"sk-estimator fitted sk-toggleable\"><input class=\"sk-toggleable__control sk-hidden--visually\" id=\"sk-estimator-id-4\" type=\"checkbox\" checked><label for=\"sk-estimator-id-4\" class=\"sk-toggleable__label fitted sk-toggleable__label-arrow fitted\">&nbsp;&nbsp;NearestNeighbors<a class=\"sk-estimator-doc-link fitted\" rel=\"noreferrer\" target=\"_blank\" href=\"https://scikit-learn.org/1.4/modules/generated/sklearn.neighbors.NearestNeighbors.html\">?<span>Documentation for NearestNeighbors</span></a><span class=\"sk-estimator-doc-link fitted\">i<span>Fitted</span></span></label><div class=\"sk-toggleable__content fitted\"><pre>NearestNeighbors(algorithm=&#x27;brute&#x27;, metric=&#x27;cosine&#x27;, n_neighbors=11)</pre></div> </div></div></div></div>"
     },
     "execution_count": 78,
     "metadata": {},
     "output_type": "execute_result"
    }
   ],
   "source": [
    "# Use KNN to find the most similar movies to the target movie based on cosine similarity. \n",
    "knn = NearestNeighbors(n_neighbors=11, metric='cosine', algorithm='brute')\n",
    "knn.fit(dataRecommendation.values.T)"
   ],
   "metadata": {
    "collapsed": false,
    "ExecuteTime": {
     "end_time": "2024-04-17T00:54:38.597506Z",
     "start_time": "2024-04-17T00:54:38.577040Z"
    }
   },
   "id": "720322b4c1c8b3a7",
   "execution_count": 78
  },
  {
   "cell_type": "markdown",
   "source": [
    "The feature vectors can represent various attributes of a movie, such as user ratings, genres and other relevant features. Cosine similarity is chosen as a metric because it effectively captures the similarity between two movies based on their feature vectors."
   ],
   "metadata": {
    "collapsed": false
   },
   "id": "7cedaa43bcce08c0"
  },
  {
   "cell_type": "code",
   "outputs": [
    {
     "data": {
      "text/plain": "[array([[0.        , 0.42739874, 0.4343632 , 0.43573831, 0.44261183,\n         0.45290409, 0.45885465, 0.4589107 ]]),\n array([[   0, 2353,  418,  615,  224,  314,  322,  910]])]"
     },
     "execution_count": 79,
     "metadata": {},
     "output_type": "execute_result"
    }
   ],
   "source": [
    "# Here is our movie recommendations for Toy Story\n",
    "recommendationResult = list(knn.kneighbors([dataRecommendation['Toy Story'].values], 8))\n",
    "\n",
    "recommendationResult  # The first array gives the cosine angles. The second array gives the movieId corresponding to the cosine angles. We'll need to convert it to a more readable form."
   ],
   "metadata": {
    "collapsed": false,
    "ExecuteTime": {
     "end_time": "2024-04-17T00:54:38.620206Z",
     "start_time": "2024-04-17T00:54:38.596943Z"
    }
   },
   "id": "8b60108ffc7fd6e0",
   "execution_count": 79
  },
  {
   "cell_type": "markdown",
   "source": [
    "This step generates movie recommendations for Toy Story. The first array represents the cosine similarities between the target movie and the recommended movie. The second array represents the movieID corresponding to the cosine similarity."
   ],
   "metadata": {
    "collapsed": false
   },
   "id": "20ec16884b1b96d4"
  },
  {
   "cell_type": "code",
   "outputs": [
    {
     "data": {
      "text/plain": "   movieId  Cosine_Similarity (degree)\n0   2353.0                    0.427399\n1    418.0                    0.434363\n2    615.0                    0.435738\n3    224.0                    0.442612\n4    314.0                    0.452904\n5    322.0                    0.458855\n6    910.0                    0.458911",
      "text/html": "<div>\n<style scoped>\n    .dataframe tbody tr th:only-of-type {\n        vertical-align: middle;\n    }\n\n    .dataframe tbody tr th {\n        vertical-align: top;\n    }\n\n    .dataframe thead th {\n        text-align: right;\n    }\n</style>\n<table border=\"1\" class=\"dataframe\">\n  <thead>\n    <tr style=\"text-align: right;\">\n      <th></th>\n      <th>movieId</th>\n      <th>Cosine_Similarity (degree)</th>\n    </tr>\n  </thead>\n  <tbody>\n    <tr>\n      <th>0</th>\n      <td>2353.0</td>\n      <td>0.427399</td>\n    </tr>\n    <tr>\n      <th>1</th>\n      <td>418.0</td>\n      <td>0.434363</td>\n    </tr>\n    <tr>\n      <th>2</th>\n      <td>615.0</td>\n      <td>0.435738</td>\n    </tr>\n    <tr>\n      <th>3</th>\n      <td>224.0</td>\n      <td>0.442612</td>\n    </tr>\n    <tr>\n      <th>4</th>\n      <td>314.0</td>\n      <td>0.452904</td>\n    </tr>\n    <tr>\n      <th>5</th>\n      <td>322.0</td>\n      <td>0.458855</td>\n    </tr>\n    <tr>\n      <th>6</th>\n      <td>910.0</td>\n      <td>0.458911</td>\n    </tr>\n  </tbody>\n</table>\n</div>"
     },
     "execution_count": 80,
     "metadata": {},
     "output_type": "execute_result"
    }
   ],
   "source": [
    "recommendations = pd.DataFrame(np.vstack((recommendationResult[1], recommendationResult[0])),\n",
    "                 index=['movieId', 'Cosine_Similarity (degree)']).T\n",
    "recommendations = recommendations.drop([0]).reset_index(drop=True)\n",
    "# In this step, I created a dataframe that stores the movieId and cosine similarity in degrees\n",
    "recommendations"
   ],
   "metadata": {
    "collapsed": false,
    "ExecuteTime": {
     "end_time": "2024-04-17T00:54:38.624553Z",
     "start_time": "2024-04-17T00:54:38.612754Z"
    }
   },
   "id": "5cc5352b53094a4f",
   "execution_count": 80
  },
  {
   "cell_type": "markdown",
   "source": [
    "Create a DataFrame to store the movie recommendations"
   ],
   "metadata": {
    "collapsed": false
   },
   "id": "6b17810e63d00004"
  },
  {
   "cell_type": "code",
   "outputs": [
    {
     "data": {
      "text/plain": "                                      movieId  Cosine_Similarity (degree)\n0                                 Toy Story 2                    0.427399\n1                               Jurassic Park                    0.434363\n2                            Independence Day                    0.435738\n3          Star Wars: Episode IV - A New Hope                    0.442612\n4                                Forrest Gump                    0.452904\n5                              Lion King, The                    0.458855\n6  Star Wars: Episode VI - Return of the Jedi                    0.458911",
      "text/html": "<div>\n<style scoped>\n    .dataframe tbody tr th:only-of-type {\n        vertical-align: middle;\n    }\n\n    .dataframe tbody tr th {\n        vertical-align: top;\n    }\n\n    .dataframe thead th {\n        text-align: right;\n    }\n</style>\n<table border=\"1\" class=\"dataframe\">\n  <thead>\n    <tr style=\"text-align: right;\">\n      <th></th>\n      <th>movieId</th>\n      <th>Cosine_Similarity (degree)</th>\n    </tr>\n  </thead>\n  <tbody>\n    <tr>\n      <th>0</th>\n      <td>Toy Story 2</td>\n      <td>0.427399</td>\n    </tr>\n    <tr>\n      <th>1</th>\n      <td>Jurassic Park</td>\n      <td>0.434363</td>\n    </tr>\n    <tr>\n      <th>2</th>\n      <td>Independence Day</td>\n      <td>0.435738</td>\n    </tr>\n    <tr>\n      <th>3</th>\n      <td>Star Wars: Episode IV - A New Hope</td>\n      <td>0.442612</td>\n    </tr>\n    <tr>\n      <th>4</th>\n      <td>Forrest Gump</td>\n      <td>0.452904</td>\n    </tr>\n    <tr>\n      <th>5</th>\n      <td>Lion King, The</td>\n      <td>0.458855</td>\n    </tr>\n    <tr>\n      <th>6</th>\n      <td>Star Wars: Episode VI - Return of the Jedi</td>\n      <td>0.458911</td>\n    </tr>\n  </tbody>\n</table>\n</div>"
     },
     "execution_count": 81,
     "metadata": {},
     "output_type": "execute_result"
    }
   ],
   "source": [
    "a = dataRecommendation.columns.to_frame().reset_index(drop=True).to_dict()['movieId']\n",
    "recommendations.movieId = recommendations.movieId.map(a)\n",
    "\n",
    "recommendations"
   ],
   "metadata": {
    "collapsed": false,
    "ExecuteTime": {
     "end_time": "2024-04-17T00:54:38.642049Z",
     "start_time": "2024-04-17T00:54:38.620881Z"
    }
   },
   "id": "2fe9dff30f3eb07",
   "execution_count": 81
  },
  {
   "cell_type": "markdown",
   "source": [
    "Map the movieIDs to movie titles"
   ],
   "metadata": {
    "collapsed": false
   },
   "id": "950ad457ff6fcd03"
  },
  {
   "cell_type": "markdown",
   "source": [
    "## Step 5a: Put it all together and create a function to generate movie recommendations"
   ],
   "metadata": {
    "collapsed": false
   },
   "id": "27a21cb9528a91b1"
  },
  {
   "cell_type": "code",
   "outputs": [],
   "source": [
    "def movieRecommendation(movie_title, num_recommendations):\n",
    "    # Check if the movie exists in the dataNames DataFrame\n",
    "    movieRow = movies[movies['title'] == movie_title]\n",
    "    if len(movieRow) > 0:\n",
    "        movieId = movieRow['movieId'].values[0]\n",
    "        # Check if the movie exists in the dataRecommendation DataFrame\n",
    "        if movieId in dataRecommendation.index:\n",
    "            recommendations = pd.DataFrame(np.vstack((recommendationResult[1], recommendationResult[0])),\n",
    "                 index=['movieId', 'Cosine_Similarity (degree)']).T\n",
    "            recommendations = recommendations.drop([0]).reset_index(drop=True)\n",
    "            a = dataRecommendation.columns.to_frame().reset_index(drop=True).to_dict()['movieId']\n",
    "            recommendations.movieId = recommendations.movieId.map(a)\n",
    "            return recommendations\n",
    "    else:\n",
    "        print(f\"The movie '{movie_title}' does not exist in the dataset.\")\n",
    "    \n",
    "    return None"
   ],
   "metadata": {
    "collapsed": false,
    "ExecuteTime": {
     "end_time": "2024-04-17T00:54:38.642607Z",
     "start_time": "2024-04-17T00:54:38.625399Z"
    }
   },
   "id": "e8a7fc8cfef3088f",
   "execution_count": 82
  },
  {
   "cell_type": "code",
   "outputs": [
    {
     "data": {
      "text/plain": "                                      movieId  Cosine_Similarity (degree)\n0                                 Toy Story 2                    0.427399\n1                               Jurassic Park                    0.434363\n2                            Independence Day                    0.435738\n3          Star Wars: Episode IV - A New Hope                    0.442612\n4                                Forrest Gump                    0.452904\n5                              Lion King, The                    0.458855\n6  Star Wars: Episode VI - Return of the Jedi                    0.458911",
      "text/html": "<div>\n<style scoped>\n    .dataframe tbody tr th:only-of-type {\n        vertical-align: middle;\n    }\n\n    .dataframe tbody tr th {\n        vertical-align: top;\n    }\n\n    .dataframe thead th {\n        text-align: right;\n    }\n</style>\n<table border=\"1\" class=\"dataframe\">\n  <thead>\n    <tr style=\"text-align: right;\">\n      <th></th>\n      <th>movieId</th>\n      <th>Cosine_Similarity (degree)</th>\n    </tr>\n  </thead>\n  <tbody>\n    <tr>\n      <th>0</th>\n      <td>Toy Story 2</td>\n      <td>0.427399</td>\n    </tr>\n    <tr>\n      <th>1</th>\n      <td>Jurassic Park</td>\n      <td>0.434363</td>\n    </tr>\n    <tr>\n      <th>2</th>\n      <td>Independence Day</td>\n      <td>0.435738</td>\n    </tr>\n    <tr>\n      <th>3</th>\n      <td>Star Wars: Episode IV - A New Hope</td>\n      <td>0.442612</td>\n    </tr>\n    <tr>\n      <th>4</th>\n      <td>Forrest Gump</td>\n      <td>0.452904</td>\n    </tr>\n    <tr>\n      <th>5</th>\n      <td>Lion King, The</td>\n      <td>0.458855</td>\n    </tr>\n    <tr>\n      <th>6</th>\n      <td>Star Wars: Episode VI - Return of the Jedi</td>\n      <td>0.458911</td>\n    </tr>\n  </tbody>\n</table>\n</div>"
     },
     "execution_count": 83,
     "metadata": {},
     "output_type": "execute_result"
    }
   ],
   "source": [
    "movieRecommendation('Toy Story', 7)"
   ],
   "metadata": {
    "collapsed": false,
    "ExecuteTime": {
     "end_time": "2024-04-17T00:54:38.661402Z",
     "start_time": "2024-04-17T00:54:38.630416Z"
    }
   },
   "id": "3d2c08c8fa8e225",
   "execution_count": 83
  },
  {
   "cell_type": "code",
   "outputs": [
    {
     "name": "stdout",
     "output_type": "stream",
     "text": [
      "The movie 'Movie Does Not Exist' does not exist in the dataset.\n"
     ]
    }
   ],
   "source": [
    "movieRecommendation('Movie Does Not Exist', 1)"
   ],
   "metadata": {
    "collapsed": false,
    "ExecuteTime": {
     "end_time": "2024-04-17T00:54:38.662425Z",
     "start_time": "2024-04-17T00:54:38.641170Z"
    }
   },
   "id": "45119fad1db2d2a4",
   "execution_count": 84
  },
  {
   "cell_type": "markdown",
   "source": [
    "Accuracy"
   ],
   "metadata": {
    "collapsed": false
   },
   "id": "c5104e5a136d4d7b"
  },
  {
   "cell_type": "markdown",
   "source": [
    "Recall"
   ],
   "metadata": {
    "collapsed": false
   },
   "id": "1cf45e0613a9c0d8"
  },
  {
   "cell_type": "markdown",
   "source": [
    "F1"
   ],
   "metadata": {
    "collapsed": false
   },
   "id": "357f460770c10a4f"
  },
  {
   "cell_type": "markdown",
   "source": [
    "Dataset visualization"
   ],
   "metadata": {
    "collapsed": false
   },
   "id": "7373976cf7063348"
  }
 ],
 "metadata": {
  "kernelspec": {
   "display_name": "Python 3",
   "language": "python",
   "name": "python3"
  },
  "language_info": {
   "codemirror_mode": {
    "name": "ipython",
    "version": 2
   },
   "file_extension": ".py",
   "mimetype": "text/x-python",
   "name": "python",
   "nbconvert_exporter": "python",
   "pygments_lexer": "ipython2",
   "version": "2.7.6"
  }
 },
 "nbformat": 4,
 "nbformat_minor": 5
}
